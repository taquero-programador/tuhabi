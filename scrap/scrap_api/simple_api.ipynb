{
 "cells": [
  {
   "cell_type": "markdown",
   "id": "4010cc47-ef8b-41c1-8e20-6773ab91b18c",
   "metadata": {},
   "source": [
    "## API Piloto"
   ]
  },
  {
   "cell_type": "code",
   "execution_count": 1,
   "id": "1d8adc39-7c43-4c27-a9eb-48357110955e",
   "metadata": {},
   "outputs": [],
   "source": [
    "import requests\n",
    "import json\n",
    "import os"
   ]
  },
  {
   "cell_type": "code",
   "execution_count": 51,
   "id": "53831e94-3592-4ac0-835f-9eb4e6c21beb",
   "metadata": {},
   "outputs": [],
   "source": [
    "url = 'http://localhost:8000'\n",
    "headers = {\"Content-Type\": \"application/json\"}"
   ]
  },
  {
   "cell_type": "code",
   "execution_count": 112,
   "id": "f28cbb66-9015-4f8f-9471-6745ed7067ae",
   "metadata": {},
   "outputs": [
    {
     "name": "stdout",
     "output_type": "stream",
     "text": [
      "1 Salinas Victoria Pilares La Puerta Águila ÁguilaTitanio   109 Pilares laPuerta sector Platino   C.P. 65515Recorrido virtualPlantas Arquitectónicas 761000 None None 2 h 1 b 2 e\n",
      "----------------------------------------------------------------------------------------------------\n",
      "2 Salinas Victoria Pilares La Puerta Águila Real Águila RealTitanio   109 Pilares laPuerta sector Platino   C.P. 65515Recorrido virtualPlantas Arquitectónicas 799000 None None 2 h 1.5 2 e\n",
      "----------------------------------------------------------------------------------------------------\n"
     ]
    }
   ],
   "source": [
    "'''\n",
    "Obtener todos los registros de la DB.\n",
    "\n",
    "skip: número de registro donde comenzara a obtener los datos de la DB.\n",
    "limit: máximo de elementos a obtener.\n",
    "'''\n",
    "\n",
    "def iter_items(args):\n",
    "    for inmo in args:\n",
    "        print(*inmo.values())\n",
    "        print('-'*100)\n",
    "\n",
    "\n",
    "def get_all(**kwargs):\n",
    "    data = requests.get(f'{url}/inmuebles', params=kwargs, headers=headers).json()\n",
    "    iter_items(data)\n",
    "\n",
    "\n",
    "get_all(skip=0, limit=2)"
   ]
  }
 ],
 "metadata": {
  "kernelspec": {
   "display_name": "Python 3 (ipykernel)",
   "language": "python",
   "name": "python3"
  },
  "language_info": {
   "codemirror_mode": {
    "name": "ipython",
    "version": 3
   },
   "file_extension": ".py",
   "mimetype": "text/x-python",
   "name": "python",
   "nbconvert_exporter": "python",
   "pygments_lexer": "ipython3",
   "version": "3.12.1"
  }
 },
 "nbformat": 4,
 "nbformat_minor": 5
}
